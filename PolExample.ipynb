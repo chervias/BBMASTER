{
 "cells": [
  {
   "cell_type": "code",
   "execution_count": null,
   "id": "0e9b275f-8011-474a-9a1d-755095fb0c92",
   "metadata": {
    "tags": []
   },
   "outputs": [],
   "source": [
    "import os\n",
    "os.environ[\"OMP_NUM_THREADS\"] = \"8\"\n",
    "import bbmaster as mst\n",
    "import numpy as np\n",
    "import matplotlib.pyplot as plt\n",
    "import pymaster as nmt\n",
    "import healpy as hp"
   ]
  },
  {
   "cell_type": "markdown",
   "id": "b21d41a3-038e-4712-81cd-30debf3b6a3e",
   "metadata": {
    "tags": []
   },
   "source": [
    "### 0. Exciting polarization modes in maps\n",
    "Producing polarized delta sims with `healpy` is slightly less trivial than for a scalar field, since setting the temperature - polarization cross correlation to zero actually suppresses the polarized mode. E.g. exciting $E$ therefore requires setting both $EE$ and $TE$ to one, which is fine as long as we don't care about $T$."
   ]
  },
  {
   "cell_type": "markdown",
   "id": "2b94e88a-b526-460f-bbdd-db318f175a37",
   "metadata": {},
   "source": [
    "### 1. Setup\n",
    "- Read mask.\n",
    "- Define bandpower bins\n",
    "- Initialize bandpower window function calculator"
   ]
  },
  {
   "cell_type": "code",
   "execution_count": null,
   "id": "b9b991f2-0bfb-4bd9-97d4-fab0a2cdb340",
   "metadata": {
    "tags": []
   },
   "outputs": [],
   "source": [
    "# bins\n",
    "bins_edges = np.loadtxt('data/bins.txt')\n",
    "bins_edges_min = [] ; bins_edges_max = []\n",
    "for n in range(len(bins_edges)-1):\n",
    "\tbins_edges_min.append(int(bins_edges[n]))\n",
    "\tbins_edges_max.append(int(bins_edges[n+1]))\n",
    "bins = nmt.NmtBin.from_edges(bins_edges_min, bins_edges_max, is_Dell=False)"
   ]
  },
  {
   "cell_type": "code",
   "execution_count": null,
   "id": "55ad290c-b181-4643-919c-4893151ca65b",
   "metadata": {
    "tags": []
   },
   "outputs": [],
   "source": [
    "# Read mask\n",
    "nside = 64\n",
    "msk = hp.read_map(\"data/mask_SAT_FirstDayEveryMonth_apo5.0_fpthin8_nside512.fits\")\n",
    "msk = hp.ud_grade(msk,nside)\n",
    "\n",
    "# Generate NaMaster bins\n",
    "#bins = nmt.NmtBin(nside, nlb=10)\n",
    "\n",
    "# Bbl calculator\n",
    "# Dictionary defining method to generate delta sims (not many options yet!)\n",
    "#dsim = {'stats': 'Gaussian'}\n",
    "#filt = {'mask': msk}\n",
    "#bc = mst.DeltaBbl(nside, dsim, filt, b, pol=True, interp_ells=False, lmin=20, lmax=50)"
   ]
  },
  {
   "cell_type": "markdown",
   "id": "6fef5643-d126-4436-8917-35f28955cc82",
   "metadata": {},
   "source": [
    "\n",
    "### 2. Compute exact bandpowers\n",
    "Now let's use NaMaster to compute the exact bandpower windows, and plot them"
   ]
  },
  {
   "cell_type": "code",
   "execution_count": null,
   "id": "759966bb-f43d-4f21-b701-ac53d8f2b5b2",
   "metadata": {
    "tags": []
   },
   "outputs": [],
   "source": [
    "# Spin-2 field\n",
    "#map_E = np.ones(12*nside**2)\n",
    "#almE = hp.map2alm(map_E,pol=False)\n",
    "#map_tqu = hp.alm2map((np.zeros_like(almE,dtype=np.complex128),almE,np.zeros_like(almE,dtype=np.complex128)),nside,pol=True)\n",
    "\n",
    "f = nmt.NmtField(hp.ud_grade(msk, nside_out=nside), None, spin=2)\n",
    "#f = nmt.NmtField(hp.ud_grade(msk, nside_out=nside), map_tqu[1:], spin=2)\n",
    "w = nmt.NmtWorkspace()\n",
    "w.compute_coupling_matrix(f, f, bins)\n",
    "mcm = w.get_coupling_matrix()"
   ]
  },
  {
   "cell_type": "code",
   "execution_count": null,
   "id": "46f1765e-f605-4fb9-bc01-5475fabf7f34",
   "metadata": {
    "tags": []
   },
   "outputs": [],
   "source": [
    "def get_grid_axes():\n",
    "    nbins=4\n",
    "    fig, axes = plt.subplots(nbins, nbins,\n",
    "                             figsize=(15, 10),\n",
    "                             constrained_layout=True,\n",
    "                             sharex=True)\n",
    "    return fig, axes\n",
    "# MCM has dimensions (pol_out, bpw_out, pol_in, ell_in)\n",
    "lmax = 110 #3*nside-1\n",
    "bpw_true = np.zeros((4,bins.get_n_bands(),4,lmax+1))\n",
    "fig, axes = get_grid_axes()\n",
    "\n",
    "for ip, p in enumerate(['EE', 'EB', 'BE', 'BB']):\n",
    "    for iq, q in enumerate(['EE', 'EB', 'BE', 'BB']):\n",
    "        ax = axes[iq, ip]\n",
    "        # The assumed ordering of power spectra is such that the l-th element \n",
    "        # of the i-th power spectrum be stored with index l * n_cls + i.\n",
    "        idx_p = [l*4+ip for l in range(lmax+1)]\n",
    "        idx_q = [l*4+iq for l in range(lmax+1)]\n",
    "        mcm_pq = mcm[np.ix_(idx_p,idx_q)]\n",
    "        #print(mcm_pq.shape)\n",
    "        #print(mcm_pq.T[0].shape)\n",
    "        bpw_true[ip,:,iq,:] = np.array([bins.bin_cell(m) for m in mcm_pq.T]).T\n",
    "        for ib in range(bins.get_n_bands()):\n",
    "            ax.set_title(f'{q}->{p}')\n",
    "            ax.plot(bpw_true[ip,ib,iq,:])\n",
    "        #ax.set_xlim([0, 3*nside-1])\n",
    "        ax.set_xlim([20, 110])\n",
    "        ax.set_xlabel('$\\ell$', fontsize=15)\n",
    "        if ip==0:\n",
    "            ax.set_ylabel('$B_{b\\ell}$', fontsize=15)\n",
    "        #ax.set_ylim(-0.11,0.11)\n",
    "plt.show()"
   ]
  },
  {
   "cell_type": "markdown",
   "id": "facd602e-d19a-49ce-9b85-641cfbc7134f",
   "metadata": {},
   "source": [
    "### 3. Compute bandpower windows through simulations"
   ]
  },
  {
   "cell_type": "markdown",
   "id": "4f8dd496-41a8-41e4-8f88-f40a62d1feec",
   "metadata": {},
   "source": [
    "Now compute them using Z2 sims"
   ]
  },
  {
   "cell_type": "code",
   "execution_count": null,
   "id": "8fe486ec-f988-4f73-9063-279a14b5bd22",
   "metadata": {
    "tags": []
   },
   "outputs": [],
   "source": [
    "filt = {'mask': msk}\n",
    "dsim = {'stats': 'Z2'}"
   ]
  },
  {
   "cell_type": "code",
   "execution_count": null,
   "id": "c902483a-41d0-4147-99a5-4813e59dfdbf",
   "metadata": {
    "tags": []
   },
   "outputs": [],
   "source": [
    "%%time\n",
    "\n",
    "outdir = '/home/chervias/CMBwork/SimonsObs/BBMASTER/output/'\n",
    "indir = '/home/chervias/CMBwork/SimonsObs/BBMASTER/output/'\n",
    "# the order for the map_in is ell , seed, map\n",
    "#in_name = '/map_tqu_nside64_%s_ell%04i_seed%i_map%i_NoBeam.fits'\n",
    "#in_name = '/out_1week_%s_ell%04i_seed%i_map%i/filterbin_filtered_map.fits'\n",
    "\n",
    "# mode 0=default, 1=only run until generating the maps and save them, 2=read in maps from disk and reconstruct bandpowers\n",
    "# pure EE=1, BB=2\n",
    "\n",
    "# This is for mode=1, to produce sims and save them\n",
    "bc_z2_interp5 = mst.DeltaBbl(nside, dsim, filt, bins, pol=True, interp_ells=None, lmin=20, lmax=110, nsim_per_ell=100, save_maps= True, pure=0, mode=1, indir=indir, seed0=1000, outdir=outdir )\n",
    "bpw_num_z2_interp5 = bc_z2_interp5.gen_Bbl_all()\n",
    "\n",
    "#interp_ells = [20,25,28,30,32,35,40,43,45,50]\n",
    "#bc_z2_interp5 = mst.DeltaBbl(nside, dsim, filt, bins, pol=True, interp_ells=5, lmin=20, lmax=50, nsim_per_ell=10, save_maps= False, pure=0, mode=2, indir=indir, in_name=in_name )\n",
    "#bc_z2_interpCustom = mst.DeltaBbl(nside, dsim, filt, bins, pol=True, interp_ells=interp_ells, lmin=20, lmax=50, nsim_per_ell=10, save_maps= False, pure=0, mode=2, indir=indir, in_name=in_name )\n",
    "#bpw_num_z2_interp5 = bc_z2_interp5.gen_Bbl_all()\n",
    "#bpw_num_z2_interpCustom = bc_z2_interpCustom.gen_Bbl_all()\n",
    "#bc_z2_all = mst.DeltaBbl(nside, dsim, filt, bins, pol=True, interp_ells=False, lmin=20, lmax=110, nsim_per_ell=10, save_maps= False, pure=0, mode=2, indir=indir, in_name=in_name )\n",
    "#bpw_num_z2_all = bc_z2_all.gen_Bbl_all()"
   ]
  },
  {
   "cell_type": "code",
   "execution_count": null,
   "id": "c6e72364-01e4-452b-b99d-da6ad906dd7c",
   "metadata": {
    "tags": []
   },
   "outputs": [],
   "source": [
    "%%time\n",
    "\n",
    "indir = '/home/chervias/CMBwork/SimonsObs/BBMASTER/output/'\n",
    "#in_name = '/out_1week_%s_ell%04i_seed%i_map%i/filterbin_filtered_map.fits' \n",
    "in_name = '/map_tqu_nside64_%s_ell%04i_seed%i_map%i_TOAST-obsmat-filtered.fits'\n",
    "#in_name = '/map_tqu_nside64_%s_ell%04i_seed%i_map%i_filtered.fits'\n",
    "\n",
    "bc_z2 = mst.DeltaBbl(nside, dsim, filt, bins, pol=True, interp_ells=1, lmin=20, lmax=110, nsim_per_ell=100, save_maps= False, pure=0, mode=2, indir=indir, in_name=in_name, seed0=1000 )\n",
    "#bpw_num_z2 = bc_z2.gen_Bbl_all()\n",
    "\n",
    "#interp_ells = [20,25,28,30,32,35,40,43,45,50]\n",
    "#bc_z2_interpCustom = mst.DeltaBbl(nside, dsim, filt, bins, pol=True, interp_ells=interp_ells, lmin=20, lmax=50, nsim_per_ell=10, save_maps= False, pure=0, mode=2, indir=indir, in_name=in_name )\n",
    "#bpw_num_z2_interpCustom = bc_z2_interpCustom.gen_Bbl_all()"
   ]
  },
  {
   "cell_type": "code",
   "execution_count": null,
   "id": "b1a5446e-e94f-4a5d-8501-8c0ef61366af",
   "metadata": {},
   "outputs": [],
   "source": [
    "bpw_num_z2 = np.load('output/BPWFs_Z2_100sims_nside0064_TOAST-obsmat-filtered.npy')\n",
    "#errors = np.load('output/Std_Z2_100sims_nside0064_TOAST-obsmat-filtered.npy')"
   ]
  },
  {
   "cell_type": "code",
   "execution_count": null,
   "id": "60854478-3099-47d7-aa44-81c950df57c3",
   "metadata": {},
   "outputs": [],
   "source": [
    "fig, axes = get_grid_axes()\n",
    "for ip, p in enumerate(['EE', 'EB', 'BE', 'BB']):\n",
    "    for iq, q in enumerate(['EE', 'EB', 'BE', 'BB']):\n",
    "        ax = axes[iq, ip]\n",
    "        # BPW matrices have dimensions (pol_out, bpw_out, pol_in, ell_in) \n",
    "        ax.set_title(f'{q}->{p}')    \n",
    "        #for ib in range(bc_z2.n_bins):\n",
    "        #for ib in [0]:\n",
    "        for ib in range(1):\n",
    "            #ax.plot(bc.get_ells(), bpw_num[iq,ib,ip,:], 'r-')\n",
    "            #ax.plot(bc_z2_interp5.get_ells(), bpw_num_z2_interp5[iq,ib,ip,:], 'r-', label='100 sims')\n",
    "            \n",
    "            ax.plot(bc_z2.get_ells(), bpw_num_z2[iq,ib,ip,:], 'r:')\n",
    "            #for l_sampled in bc_z2.errors.keys():\n",
    "            #    ax.scatter(l_sampled,bpw_num_z2[iq,ib,ip,l_sampled-20],)\n",
    "            #    ax.errorbar(l_sampled,bpw_num_z2[iq,ib,ip,l_sampled-20], yerr=bc_z2.errors[l_sampled][iq,ib,ip], ecolor='r',capsize=5)\n",
    "            \n",
    "            #ax.plot(bc_z2_interpCustom.get_ells(), bpw_num_z2_interpCustom[iq,ib,ip,:], 'b:')\n",
    "            #for l_sampled in bc_z2_interpCustom.errors.keys():\n",
    "            #    ax.errorbar(l_sampled,bpw_num_z2_interpCustom[iq,ib,ip,l_sampled-20],yerr=bc_z2_interpCustom.errors[l_sampled][iq,ib,ip],ecolor='b',capsize=5)\n",
    "            \n",
    "            #ax.plot(bc_z2_interp5.get_ells(), bpw_num_z2_interp5[iq,ib,ip,:], 'b-', label='100 sims')\n",
    "            #for l_sampled in bc_z2_interp5.errors.keys():\n",
    "            #    ax.errorbar(l_sampled,bpw_num_z2_interp5[iq,ib,ip,l_sampled-20],yerr=bc_z2_interp5.errors[l_sampled][iq,ib,ip],ecolor='b',capsize=5)\n",
    "            \n",
    "            #ax.plot(bpw_true[iq,ib,ip,:], 'k--',)\n",
    "        #ax.set_xlim([20, 50])\n",
    "        ax.set_xlim([20,110])\n",
    "        ax.set_xlabel('$\\ell$', fontsize=15)\n",
    "        if ip==0:\n",
    "            ax.set_ylabel('$B_{b\\ell}$', fontsize=15)\n",
    "        #ax.set_ylim(-0.11,0.11)\n",
    "        #if iq==0 and ip==0:\n",
    "        #    ax.legend(loc='best',fontsize=8)\n",
    "plt.suptitle(\"Interpolate multipoles\")\n",
    "#plt.savefig('plots/Bandpowers_30-40_Test100sims.pdf',format='pdf',bbox_inches='tight')"
   ]
  },
  {
   "cell_type": "code",
   "execution_count": null,
   "id": "f2f17787-cb99-45fe-9eea-fdf84c0b9c41",
   "metadata": {},
   "outputs": [],
   "source": [
    "Nbins = 8\n",
    "print( bins.get_ell_list(0)-20 )"
   ]
  },
  {
   "cell_type": "code",
   "execution_count": null,
   "id": "62a32481-3c0c-458b-bead-02bc44bed74a",
   "metadata": {},
   "outputs": [],
   "source": [
    "lmax+1-20"
   ]
  },
  {
   "cell_type": "code",
   "execution_count": null,
   "id": "df2933ed-9a0a-4505-96b3-e37b238a9619",
   "metadata": {},
   "outputs": [],
   "source": [
    "# Fully binned coupling matrix (including filtering)\n",
    "btbmcm = np.transpose(np.array([np.sum(bpw_num_z2[:, :, :, bins.get_ell_list(i)-20],axis=-1) for i in range(Nbins)]), axes=[1, 2, 3, 0])\n",
    "\n",
    "# Invert and multiply by tbmcm to get final bandpower window functions.\n",
    "ibtbmcm = np.linalg.inv(btbmcm.reshape([4*Nbins, 4*Nbins]))\n",
    "winflat = np.dot(ibtbmcm, bpw_num_z2.reshape([4*Nbins, 4*(lmax+1-20)]))\n",
    "wcal_inv = ibtbmcm.reshape([4, Nbins, 4, Nbins])\n",
    "bpw_windows = winflat.reshape([4, Nbins, 4, lmax+1-20])"
   ]
  },
  {
   "cell_type": "code",
   "execution_count": null,
   "id": "0f931abd-d8c0-49c1-9b2f-2a84be97ee77",
   "metadata": {},
   "outputs": [],
   "source": [
    "# calculate the pseudoCL spectra for the 100 observed maps\n",
    "#beam = hp.gauss_beam(np.radians(0.5), lmax=2000, pol=True)\n",
    "\n",
    "# reshape w_inv\n",
    "winv = wcal_inv.reshape([4*Nbins, 4*Nbins])\n",
    "\n",
    "Nmc = 8\n",
    "nside = 512\n",
    "pwf = hp.pixwin(nside, pol=True, lmax=2000)\n",
    "mask = hp.read_map(\"data/mask_SAT_FirstDayEveryMonth_apo5.0_fpthin8_nside512.fits\")\n",
    "#mask = hp.ud_grade(mask,nside)\n",
    "\n",
    "PCell_obs = np.zeros((Nmc,4,Nbins))\n",
    "for mm in range(Nmc):\n",
    "    #map_ = hp.read_map('/home/chervias/CMBwork/SimonsObs/BBMASTER/output/CMB_sims/%04i/cmb_20231222_realistic_lensing_ns512_%04i_mcut-filtered.fits' % (mm,mm), field=(1,2))\n",
    "    #map_ = hp.read_map('/home/chervias/CMBwork/SimonsObs/BBMASTER/output/CMB_sims/%04i/cmb_20231222_realistic_lensing_onlyBB_ns512_%04i_mcut-filtered.fits' % (mm,mm), field=(1,2))\n",
    "    map_ = hp.read_map('/home/chervias/CMBwork/SimonsObs/BBMASTER/output/Validation_for_paper/CMBl-pureB_NoBeam/%04i/filterbin_coadd-full_map.fits' % (mm), field=(1,2))\n",
    "    f2_map = nmt.NmtField(mask, map_, spin=2, purify_e=False, purify_b=True, beam=pwf[1])\n",
    "    PCell = bins.bin_cell(nmt.compute_coupled_cell(f2_map, f2_map)[:,0:lmax+1])\n",
    "    PCell_obs[mm] = np.dot(winv, PCell.flatten()).reshape([4, Nbins])\n",
    "    print('Done for %i'%mm)"
   ]
  },
  {
   "cell_type": "code",
   "execution_count": null,
   "id": "ef5f6637-44e2-4e9f-a505-159b1826d0d3",
   "metadata": {},
   "outputs": [],
   "source": [
    "cl_lens = np.loadtxt('/home/chervias/CMBwork/SimonsObs/BB_forecast/inputs/Cell_fiducial_DataChallenge_lensed_r0.dat') * (1e-6)**2 # transform to K^2 \n",
    "#cl_tens = np.loadtxt('/home/chervias/CMBwork/SimonsObs/BB_forecast/inputs/Cell_fiducial_DataChallenge_tensor_r1.dat') * (1e-6)**2 # transform to K^2 \n",
    "cl_th = np.array([cl_lens[:,2], np.zeros_like(cl_lens[:,2]), np.zeros_like(cl_lens[:,2]), cl_lens[:,3]])\n",
    "#cl_dec_th = np.einsum('ijkl,kl', bpw_windows, cl_th[:,20:lmax+1])"
   ]
  },
  {
   "cell_type": "code",
   "execution_count": null,
   "id": "3a4c6019-e025-463f-8ba9-0ef5bd42bf68",
   "metadata": {},
   "outputs": [],
   "source": [
    "fig = plt.figure(figsize=(6,6))\n",
    "ax = fig.add_subplot(1,1,1)\n",
    "\n",
    "#ax.errorbar(bins.get_effective_ells(),np.mean(PCell_obs[:,0],axis=0), yerr=np.std(PCell_obs[:,0],axis=0),label='decoupled EE',fmt='o',markeredgecolor='red',markerfacecolor='none',ecolor='red',capsize=5,markeredgewidth=1,elinewidth=1)\n",
    "ax.errorbar(bins.get_effective_ells(),np.mean(PCell_obs[:,3],axis=0), yerr=np.std(PCell_obs[:,3],axis=0),label='decoupled BB',fmt='o',markeredgecolor='blue',markerfacecolor='none',ecolor='blue',capsize=5,markeredgewidth=1,elinewidth=1)\n",
    "\n",
    "#ax.plot(np.arange(lmax+1),cl_lens[:lmax+1,2],c='grey',label='CMB EE theory',lw=1,ls='--',)\n",
    "ax.plot(np.arange(lmax+1), cl_lens[:lmax+1,3],c='grey',label='CMB BB theory (lensing)',lw=1,ls='--',)\n",
    "\n",
    "#ax.scatter(bins.get_effective_ells(), cl_dec_th[0], label='theory EE', marker='^', edgecolors='red', facecolors='none')\n",
    "#ax.scatter(bins.get_effective_ells(), cl_dec_th[3], label='theory BB', marker='^', edgecolors='blue', facecolors='none')\n",
    "\n",
    "#ax.plot(cl_lens[:,2],c='b')\n",
    "\n",
    "ax.set_yscale('log')\n",
    "#ax.set_xscale('log')\n",
    "ax.set_xlim(30,100)\n",
    "#ax.set_ylim(1e-19,1e-17)\n",
    "ax.set_ylabel('C_ell K^2')\n",
    "ax.legend()\n",
    "\n",
    "#plt.savefig('plots/Cells_reconstructed_CMBlensing_mcut.pdf', format='pdf', bbox_inches='tight')"
   ]
  },
  {
   "cell_type": "code",
   "execution_count": null,
   "id": "8023af6a-ee8d-4c9e-81f3-b59d2054560b",
   "metadata": {},
   "outputs": [],
   "source": [
    "np.mean(PCell_obs[:,3],axis=0)"
   ]
  },
  {
   "cell_type": "code",
   "execution_count": null,
   "id": "19ab6aa0-ca43-4a3f-8b1d-ef745034589d",
   "metadata": {},
   "outputs": [],
   "source": [
    "lmax = 110 #3*nside - 1\n",
    "#mcm_byme_all = np.zeros_like(mcm)\n",
    "#mcm_byme_every5 = np.zeros_like(mcm)\n",
    "mcm_byme_interp5 = np.zeros_like(mcm)\n",
    "\n",
    "ell_array = np.arange(20,lmax+1)\n",
    "ell_sampled = np.array([20,25,30,35,40,45,50,55,60,65,70,75,80,85,90,95,100,105,110])\n",
    "\n",
    "#for ip in range(4):\n",
    "#    for iq in range(4):\n",
    "#        for i_ell_1 in range(lmax+1):\n",
    "#            for i_ell_2 in range(lmax+1):\n",
    "#                mcm_byme_every5[i_ell_1*4 + ip , i_ell_2*4 + iq ] = bc_z2_interp5.cb_ell[ip,iq,i_ell_1,i_ell_2]\n",
    "\n",
    "for ip in range(4):\n",
    "    for iq in range(4):\n",
    "        for ell in range(20,lmax+1):\n",
    "            bc_z2_interp5.cb_ell[ip,iq,20:,ell] = np.interp(ell_array, ell_sampled, bc_z2_interp5.cb_ell[ip,iq,ell_sampled,ell],left=0.0,right=0.0)\n",
    "\n",
    "for ip in range(4):\n",
    "    for iq in range(4):\n",
    "        for i_ell_1 in range(lmax+1):\n",
    "            for i_ell_2 in range(lmax+1):\n",
    "                mcm_byme_interp5[i_ell_1*4 + ip , i_ell_2*4 + iq ] = bc_z2_interp5.cb_ell[ip,iq,i_ell_1,i_ell_2]\n",
    "\n",
    "#for ip in range(4):\n",
    "#    for iq in range(4):\n",
    "#        for i_ell_1 in range(lmax+1):\n",
    "#            for i_ell_2 in range(lmax+1):\n",
    "#                mcm_byme_all[i_ell_1*4 + ip , i_ell_2*4 + iq ] = bc_z2_all.cb_ell[ip,iq,i_ell_1,i_ell_2]"
   ]
  },
  {
   "cell_type": "code",
   "execution_count": null,
   "id": "1d2d1d7c-5e2a-409f-a6e1-b3a205adce73",
   "metadata": {
    "tags": []
   },
   "outputs": [],
   "source": [
    "fig = plt.figure(figsize=(15,5))\n",
    "\n",
    "ax = fig.add_subplot(1,3,1)\n",
    "ax.set_title('coupling matrix exact')\n",
    "ax.matshow(mcm,vmin=-0.001,vmax=0.001)\n",
    "\n",
    "ax = fig.add_subplot(1,3,2)\n",
    "ax.set_title('coupling matrix from MC sims, every ell')\n",
    "ax.matshow(mcm_byme_all,vmin=-0.001,vmax=0.001)\n",
    "\n",
    "ax = fig.add_subplot(1,3,3)\n",
    "ax.set_title('coupling matrix from MC sims, every 5 ells interp')\n",
    "ax.matshow(mcm_byme_interp5,vmin=-0.001,vmax=0.001)\n"
   ]
  },
  {
   "cell_type": "markdown",
   "id": "abecfa85-d1f4-491b-90b3-c5f75eda2b32",
   "metadata": {},
   "source": [
    "Note that when setting `interp_ells=5` (only sample every 5th multipole and interpolate the others), we clearly see that Z2 variables are superior to Gaussian variables at low $\\ell$."
   ]
  },
  {
   "cell_type": "markdown",
   "id": "b2b470ed-8106-47f4-a991-cff712e2d438",
   "metadata": {},
   "source": [
    "Now, let's bin a fiducial spectra with this bandpower and compare that to an observed map"
   ]
  },
  {
   "cell_type": "code",
   "execution_count": null,
   "id": "1a4a414b-0ba1-4909-8f53-aea42e808ff3",
   "metadata": {
    "tags": []
   },
   "outputs": [],
   "source": [
    "# now load a map and calculate its deconvolved power spectra\n",
    "msk = hp.read_map(\"data/mask_SAT_1week_apo10.0_fpthin8_nside512.fits\")\n",
    "#m_ = hp.read_map('toast/output/%04i/test1_1week_pureE_seed%04i/filterbin_filtered_map.fits'%(0,0),field=(0,1,2))\n",
    "m_ = hp.read_map('output/CMB_sims/cmb_20230608_pureB_ns512_%04i.fits'%(0),field=(0,1,2))\n",
    "f_s2 = nmt.NmtField(msk, [m_[1],m_[2]] , spin=2)\n",
    "\n",
    "w_new = nmt.NmtWorkspace()\n",
    "w_new.compute_coupling_matrix(f_s2, f_s2, bins)\n",
    "w_new.update_coupling_matrix(mcm_byme_interp5)\n",
    "\n",
    "Nmc = 100\n",
    "cl_decoupled = np.zeros((Nmc,4,bins.get_n_bands()))\n",
    "for m in range(Nmc):\n",
    "    #m_ = hp.read_map('toast/output/%04i/test1_1week_pureE_seed%04i/filterbin_filtered_map.fits'%(m,m),field=(0,1,2))\n",
    "    m_ = hp.read_map('output/CMB_sims/cmb_20230608_pureB_ns512_%04i.fits'%(m),field=(0,1,2))\n",
    "    f_s2 = nmt.NmtField(msk, [m_[1],m_[2]] , spin=2)\n",
    "    cl_coupled = nmt.compute_coupled_cell(f_s2, f_s2)\n",
    "    cl_decoupled[m] = w_new.decouple_cell(cl_coupled)\n"
   ]
  },
  {
   "cell_type": "code",
   "execution_count": null,
   "id": "d4274d60-7969-4c8d-bfa9-f7cbaf0b9f27",
   "metadata": {
    "tags": []
   },
   "outputs": [],
   "source": [
    "fig = plt.figure(figsize=(6,4))\n",
    "ax = fig.add_subplot(1,1,1)\n",
    "\n",
    "ell_array = np.arange(4000+1)\n",
    "cl_lens = np.loadtxt('/home/chervias/CMBwork/SimonsObs/BB_forecast/inputs/Cell_fiducial_DataChallenge_lensed_r0.dat') # transform to K^2 \n",
    "ax.plot(ell_array,cl_lens[0:4000+1,3]*(1e3)**2,c='black',lw=0.6,label='theory BB r=0 (only lensing)')\n",
    "#ax.plot(ell_array,cl_lens[0:4000+1,2]*(1e3)**2,c='black',lw=0.6,label='theory EE')\n",
    "\n",
    "ells = bins.get_effective_ells()\n",
    "\n",
    "ax.errorbar(ells[0:7],np.mean(cl_decoupled[:,0,0:7]*(1e9)**2,axis=0),yerr=np.std(cl_decoupled[:,0,0:7]*(1e9)**2,axis=0),label='reconstructed EE',fmt='o',markeredgecolor='blue',markerfacecolor='none',ecolor='blue',capsize=5)\n",
    "ax.errorbar(ells[0:7],np.mean(cl_decoupled[:,1,0:7]*(1e9)**2,axis=0),yerr=np.std(cl_decoupled[:,1,0:7]*(1e9)**2,axis=0),label='reconstructed EB',fmt='o',markeredgecolor='green',markerfacecolor='none',ecolor='green',capsize=5)\n",
    "ax.errorbar(ells[0:7],np.mean(cl_decoupled[:,2,0:7]*(1e9)**2,axis=0),yerr=np.std(cl_decoupled[:,2,0:7]*(1e9)**2,axis=0),label='reconstructed BE',fmt='o',markeredgecolor='orange',markerfacecolor='none',ecolor='orange',capsize=5)\n",
    "ax.errorbar(ells[0:7],np.mean(cl_decoupled[:,3,0:7]*(1e9)**2,axis=0),yerr=np.std(cl_decoupled[:,3,0:7]*(1e9)**2,axis=0),label='reconstructed BB',fmt='o',markeredgecolor='red',markerfacecolor='none',ecolor='red',capsize=5)\n",
    "\n",
    "ax.set_xlim(30,200)\n",
    "ax.set_ylim(-0.5,4.2)\n",
    "#ax.set_ylim(-30,700)\n",
    "#ax.set_yscale('symlog',linthresh=1e-19)\n",
    "#ax.set_yscale('log')\n",
    "#ax.set_xscale('log')\n",
    "ax.set_xlabel('multipole')\n",
    "ax.set_ylabel(r'$\\hat{C}_{\\ell}$ [nK$^2_{\\rm CMB}$]')\n",
    "ax.legend(loc='upper right')\n",
    "\n",
    "plt.savefig('plots/Cells_reconstructed_pureB_onlyMask.pdf',format='pdf',bbox_inches='tight')"
   ]
  },
  {
   "cell_type": "code",
   "execution_count": null,
   "id": "cdd2496d-7d3d-456b-b3b9-ebd8217abf3e",
   "metadata": {
    "tags": []
   },
   "outputs": [],
   "source": [
    "(Npols,Nbins,Npols,Nells) = bpw_num_z2.shape"
   ]
  },
  {
   "cell_type": "code",
   "execution_count": null,
   "id": "21dcff28-a268-4cf4-b532-4759de73434e",
   "metadata": {
    "tags": []
   },
   "outputs": [],
   "source": [
    "cl_lens = np.loadtxt('/home/chervias/CMBwork/SimonsObs/BB_forecast/inputs/Cell_fiducial_DataChallenge_lensed_r0.dat') * (1e-6)**2 # transform to K^2 \n",
    "#pwf_64 = hp.pixwin(64,pol=True)\n",
    "#pwf_512 = hp.pixwin(512,pol=True)\n",
    "\n",
    "l_min = 20\n",
    "\n",
    "# we will only calculate the tilde(C)^EE\n",
    "C_b_EE = np.zeros(Nbins)\n",
    "C_b_BB = np.zeros(Nbins)\n",
    "\n",
    "for b in range(Nbins):\n",
    "    #if b in [3,4,5,6,7,8]:\n",
    "    if b in [0,1,2,3,4,5]:\n",
    "        for q in range(Npols):\n",
    "            for ell in range(Nells):\n",
    "                C_b_EE[b] += bpw_num_z2[0,b,q,ell]*cl_lens[ell+l_min,2]  # 2 is EE\n",
    "                C_b_BB[b] += bpw_num_z2[3,b,q,ell]*cl_lens[ell+l_min,3]  # 3 is BB"
   ]
  },
  {
   "cell_type": "code",
   "execution_count": null,
   "id": "8e9b4948-4d15-4994-b408-91bafbc3329c",
   "metadata": {
    "tags": []
   },
   "outputs": [],
   "source": [
    "msk = hp.read_map(\"data/mask_SAT_1week_apo10.0_fpthin8_nside512.fits\")\n",
    "Nmc = 2\n",
    "\n",
    "Cell_filt_ee = np.zeros((Nmc,6,3*nside))\n",
    "for m in range(Nmc):\n",
    "    m_ = hp.read_map('toast/output/%04i/test1_1week_pureE_seed%04i/filterbin_filtered_map.fits'%(m,m),field=(0,1,2))\n",
    "    cl = hp.anafast(m_ * msk, pol=True, lmax=(3*nside-1),iter=5)\n",
    "    #print(cl.shape)\n",
    "    Cell_filt_ee[m] = cl\n",
    "\n",
    "Cell_filt_bb = np.zeros((Nmc,6,3*nside))\n",
    "for m in range(Nmc):\n",
    "    m_ = hp.read_map('toast/output/%04i/test1_1week_pureB_seed%04i/filterbin_filtered_map.fits'%(m,m),field=(0,1,2))\n",
    "    cl = hp.anafast(m_ * msk, pol=True, lmax=(3*nside-1),iter=5)\n",
    "    #print(cl.shape)\n",
    "    Cell_filt_bb[m] = cl"
   ]
  },
  {
   "cell_type": "code",
   "execution_count": null,
   "id": "22295f61-398d-48ff-90dc-4cd5412ec00e",
   "metadata": {
    "tags": []
   },
   "outputs": [],
   "source": [
    "fig = plt.figure()\n",
    "\n",
    "ax = fig.add_subplot(1,1,1)\n",
    "\n",
    "ells = bins.get_effective_ells()\n",
    "\n",
    "for m in range(Nmc):\n",
    "    #ax.scatter(ells, Dell_filt[m,0], color='blue')\n",
    "    if m==0:\n",
    "        ax.plot(Cell_filt_ee[m,1],c='blue',lw=0.05,label='anafast over pure E map')\n",
    "        ax.plot(Cell_filt_bb[m,2],c='red',lw=0.05,label='anafast over pure B map')\n",
    "    else:\n",
    "        ax.plot(Cell_filt_ee[m,1],c='blue',lw=0.05)\n",
    "        ax.plot(Cell_filt_bb[m,2],c='red',lw=0.05)\n",
    "\n",
    "ax.scatter(ells,C_b_EE,color='blue',label='theory EE binned by Bbl')\n",
    "ax.scatter(ells,C_b_BB,color='red',label='theory BB binned by Bbl')\n",
    "\n",
    "\n",
    "ax.set_xlim(20,100)\n",
    "ax.set_yscale('log')\n",
    "ax.set_xlabel('multipole')\n",
    "ax.set_ylabel(r'$\\tilde{C}_{\\ell}$')\n",
    "ax.legend(loc='lower right')"
   ]
  },
  {
   "cell_type": "markdown",
   "id": "dfd3d17d-ae23-4619-a4c3-c1311e42e3f6",
   "metadata": {},
   "source": [
    "Now, let's test other bandpower widths."
   ]
  },
  {
   "cell_type": "code",
   "execution_count": null,
   "id": "ca7d78f1-2225-4489-bb5f-19092f9b6bb3",
   "metadata": {},
   "outputs": [],
   "source": [
    "b20 = nmt.NmtBin(nside, nlb=20)\n",
    "# Bbl calculator\n",
    "dsim = {'stats': 'Gaussian'}\n",
    "filt = {'mask': msk}\n",
    "bc20 = mst.DeltaBbl(nside, dsim, filt, b20, pol=True)"
   ]
  },
  {
   "cell_type": "code",
   "execution_count": null,
   "id": "93c114ad-47bc-49d0-b5c2-c4b0068b0c72",
   "metadata": {},
   "outputs": [],
   "source": [
    "w20 = nmt.NmtWorkspace()\n",
    "w20.compute_coupling_matrix(f, f, b20)\n",
    "mcm20 = w20.get_coupling_matrix()\n",
    "\n",
    "# MCM has dimensions (pol_out, bpw_out, pol_in, ell_in) \n",
    "bpw20_true = np.zeros((4,bc20.n_bins,4,3*nside))\n",
    "\n",
    "for ip, p in enumerate(['EE', 'EB', 'BE', 'BB']):\n",
    "    for iq, q in enumerate(['EE', 'EB', 'BE', 'BB']):\n",
    "        ax = axes[iq, ip]\n",
    "        # The assumed ordering of power spectra is such that the l-th element \n",
    "        # of the i-th power spectrum be stored with index l * n_cls + i.\n",
    "        idx_p = [l*4+ip for l in range(3*nside)]\n",
    "        idx_q = [l*4+iq for l in range(3*nside)]\n",
    "        mcm_pq = mcm20[np.ix_(idx_p,idx_q)]\n",
    "        bpw20_true[ip,:,iq,:] = np.array([b20.bin_cell(m) for m in mcm_pq.T]).T"
   ]
  },
  {
   "cell_type": "code",
   "execution_count": null,
   "id": "b15ac1f4-ab7f-4e22-9f53-08885e6dcacb",
   "metadata": {},
   "outputs": [],
   "source": [
    "%%time\n",
    "bpw20_num = bc20.gen_Bbl_all()"
   ]
  },
  {
   "cell_type": "code",
   "execution_count": null,
   "id": "f36858ad-7775-4400-8045-fe817d0ca438",
   "metadata": {},
   "outputs": [],
   "source": [
    "%%time\n",
    "dsim = {'stats': 'Z2'}\n",
    "bc20_z2 = mst.DeltaBbl(nside, dsim, filt, b20, pol=True)\n",
    "bpw20_num_z2 = bc20_z2.gen_Bbl_all()"
   ]
  },
  {
   "cell_type": "code",
   "execution_count": null,
   "id": "19006047-50fb-480c-8893-a75947f0fc96",
   "metadata": {},
   "outputs": [],
   "source": [
    "fig, axes = get_grid_axes()\n",
    "\n",
    "for ip, p in enumerate(['EE', 'EB', 'BE', 'BB']):\n",
    "    for iq, q in enumerate(['EE', 'EB', 'BE', 'BB']):\n",
    "        ax = axes[iq, ip]\n",
    "        # BPW matrices have dimensions (pol_out, bpw_out, pol_in, ell_in) \n",
    "        ax.set_title(f'{q}->{p}')    \n",
    "        for ib in range(bc20.n_bins):\n",
    "            ax.plot(bc20.get_ells(), bpw20_num[iq,ib,ip,:], 'r-')\n",
    "            ax.plot(bc20_z2.get_ells(), bpw20_num_z2[iq,ib,ip,:], 'c:')\n",
    "            ax.plot(bpw20_true[iq,ib,ip,:], 'k--')\n",
    "        ax.set_xlim([0, 3*nside-1])\n",
    "        ax.set_xlabel('$\\ell$', fontsize=15)\n",
    "        if ip==0:\n",
    "            ax.set_ylabel('$B_{b\\ell}$', fontsize=15)\n",
    "plt.suptitle(\"Vary multipole bins\")\n",
    "plt.show()"
   ]
  },
  {
   "cell_type": "code",
   "execution_count": null,
   "id": "2e1b3d7d-b719-468e-853e-bb68491068a7",
   "metadata": {},
   "outputs": [],
   "source": [
    "# Next steps:\n",
    "# * Only sample fraction of ells and interpolate to gain speed  OK\n",
    "# * Vary bandpowers & check                                     OK\n",
    "# * Implement chi2 measure of bandpower accuracy                TODO\n",
    "# * Load test CMB signal and reconstruct observed bandpowers    TODO\n",
    "# * Implement r likelihood and make Fisher forecast             TODO"
   ]
  }
 ],
 "metadata": {
  "kernelspec": {
   "display_name": "Python 3 (ipykernel)",
   "language": "python",
   "name": "python3"
  },
  "language_info": {
   "codemirror_mode": {
    "name": "ipython",
    "version": 3
   },
   "file_extension": ".py",
   "mimetype": "text/x-python",
   "name": "python",
   "nbconvert_exporter": "python",
   "pygments_lexer": "ipython3",
   "version": "3.11.6"
  }
 },
 "nbformat": 4,
 "nbformat_minor": 5
}
