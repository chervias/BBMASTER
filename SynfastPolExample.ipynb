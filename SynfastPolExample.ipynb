{
 "cells": [
  {
   "cell_type": "code",
   "execution_count": 1,
   "id": "0e9b275f-8011-474a-9a1d-755095fb0c92",
   "metadata": {},
   "outputs": [
    {
     "ename": "ModuleNotFoundError",
     "evalue": "No module named 'healpy'",
     "output_type": "error",
     "traceback": [
      "\u001b[0;31m---------------------------------------------------------------------------\u001b[0m",
      "\u001b[0;31mModuleNotFoundError\u001b[0m                       Traceback (most recent call last)",
      "\u001b[0;32m<ipython-input-1-6cad1b4114c3>\u001b[0m in \u001b[0;36m<module>\u001b[0;34m\u001b[0m\n\u001b[0;32m----> 1\u001b[0;31m \u001b[0;32mimport\u001b[0m \u001b[0mbbmaster\u001b[0m \u001b[0;32mas\u001b[0m \u001b[0mmst\u001b[0m\u001b[0;34m\u001b[0m\u001b[0;34m\u001b[0m\u001b[0m\n\u001b[0m\u001b[1;32m      2\u001b[0m \u001b[0;32mimport\u001b[0m \u001b[0mnumpy\u001b[0m \u001b[0;32mas\u001b[0m \u001b[0mnp\u001b[0m\u001b[0;34m\u001b[0m\u001b[0;34m\u001b[0m\u001b[0m\n\u001b[1;32m      3\u001b[0m \u001b[0;32mimport\u001b[0m \u001b[0mmatplotlib\u001b[0m\u001b[0;34m.\u001b[0m\u001b[0mpyplot\u001b[0m \u001b[0;32mas\u001b[0m \u001b[0mplt\u001b[0m\u001b[0;34m\u001b[0m\u001b[0;34m\u001b[0m\u001b[0m\n\u001b[1;32m      4\u001b[0m \u001b[0;32mimport\u001b[0m \u001b[0mpymaster\u001b[0m \u001b[0;32mas\u001b[0m \u001b[0mnmt\u001b[0m\u001b[0;34m\u001b[0m\u001b[0;34m\u001b[0m\u001b[0m\n\u001b[1;32m      5\u001b[0m \u001b[0;32mimport\u001b[0m \u001b[0mhealpy\u001b[0m \u001b[0;32mas\u001b[0m \u001b[0mhp\u001b[0m\u001b[0;34m\u001b[0m\u001b[0;34m\u001b[0m\u001b[0m\n",
      "\u001b[0;32m/global/u2/k/kwolz/BBMASTER/bbmaster/__init__.py\u001b[0m in \u001b[0;36m<module>\u001b[0;34m\u001b[0m\n\u001b[0;32m----> 1\u001b[0;31m \u001b[0;32mfrom\u001b[0m \u001b[0;34m.\u001b[0m\u001b[0mdeltasim\u001b[0m \u001b[0;32mimport\u001b[0m \u001b[0mDeltaBbl\u001b[0m\u001b[0;34m\u001b[0m\u001b[0;34m\u001b[0m\u001b[0m\n\u001b[0m",
      "\u001b[0;32m/global/u2/k/kwolz/BBMASTER/bbmaster/deltasim.py\u001b[0m in \u001b[0;36m<module>\u001b[0;34m\u001b[0m\n\u001b[1;32m      1\u001b[0m \u001b[0;32mimport\u001b[0m \u001b[0mnumpy\u001b[0m \u001b[0;32mas\u001b[0m \u001b[0mnp\u001b[0m\u001b[0;34m\u001b[0m\u001b[0;34m\u001b[0m\u001b[0m\n\u001b[0;32m----> 2\u001b[0;31m \u001b[0;32mimport\u001b[0m \u001b[0mhealpy\u001b[0m \u001b[0;32mas\u001b[0m \u001b[0mhp\u001b[0m\u001b[0;34m\u001b[0m\u001b[0;34m\u001b[0m\u001b[0m\n\u001b[0m\u001b[1;32m      3\u001b[0m \u001b[0;32mimport\u001b[0m \u001b[0mpymaster\u001b[0m \u001b[0;32mas\u001b[0m \u001b[0mnmt\u001b[0m\u001b[0;34m\u001b[0m\u001b[0;34m\u001b[0m\u001b[0m\n\u001b[1;32m      4\u001b[0m \u001b[0;32mimport\u001b[0m \u001b[0mcopy\u001b[0m\u001b[0;34m\u001b[0m\u001b[0;34m\u001b[0m\u001b[0m\n\u001b[1;32m      5\u001b[0m \u001b[0;34m\u001b[0m\u001b[0m\n",
      "\u001b[0;31mModuleNotFoundError\u001b[0m: No module named 'healpy'"
     ]
    }
   ],
   "source": [
    "import bbmaster as mst\n",
    "import numpy as np\n",
    "import matplotlib.pyplot as plt\n",
    "import pymaster as nmt\n",
    "import healpy as hp"
   ]
  },
  {
   "cell_type": "markdown",
   "id": "b21d41a3-038e-4712-81cd-30debf3b6a3e",
   "metadata": {
    "tags": []
   },
   "source": [
    "### 0. Exciting polarization modes in maps\n",
    "Producing delta sims with polarization is slightly less trivial than for a scalar field, since setting the temperature - polarization cross to zero actually suppresses the polarized mode. E.g. exciting E therefore requires setting both EE and TE to one, which is fine if we don't care about T."
   ]
  },
  {
   "cell_type": "code",
   "execution_count": 2,
   "id": "470947e7-d42f-4e01-b8ae-e30ae0de9a4d",
   "metadata": {},
   "outputs": [
    {
     "ename": "NameError",
     "evalue": "name 'np' is not defined",
     "output_type": "error",
     "traceback": [
      "\u001b[0;31m---------------------------------------------------------------------------\u001b[0m",
      "\u001b[0;31mNameError\u001b[0m                                 Traceback (most recent call last)",
      "Input \u001b[0;32mIn [2]\u001b[0m, in \u001b[0;36m<cell line: 3>\u001b[0;34m()\u001b[0m\n\u001b[1;32m      1\u001b[0m nside \u001b[38;5;241m=\u001b[39m \u001b[38;5;241m64\u001b[39m\n\u001b[1;32m      2\u001b[0m ell \u001b[38;5;241m=\u001b[39m \u001b[38;5;241m20\u001b[39m\n\u001b[0;32m----> 3\u001b[0m cl_in \u001b[38;5;241m=\u001b[39m \u001b[43mnp\u001b[49m\u001b[38;5;241m.\u001b[39mzeros((\u001b[38;5;241m6\u001b[39m,\u001b[38;5;241m3\u001b[39m\u001b[38;5;241m*\u001b[39mnside)) \u001b[38;5;66;03m# TT, EE, BB, TE, EB, TB (New=False)\u001b[39;00m\n\u001b[1;32m      4\u001b[0m \u001b[38;5;66;03m# for i in [1,2,3,4,5]: # excite EE, BB, EB\u001b[39;00m\n\u001b[1;32m      5\u001b[0m \u001b[38;5;66;03m#     cl_in[i][ell] = 1\u001b[39;00m\n\u001b[1;32m      6\u001b[0m \u001b[38;5;28;01mfor\u001b[39;00m i \u001b[38;5;129;01min\u001b[39;00m [\u001b[38;5;241m1\u001b[39m,\u001b[38;5;241m3\u001b[39m]: \u001b[38;5;66;03m# excite EE\u001b[39;00m\n",
      "\u001b[0;31mNameError\u001b[0m: name 'np' is not defined"
     ]
    }
   ],
   "source": [
    "nside = 64\n",
    "ell = 20\n",
    "cl_in = np.zeros((6,3*nside)) # TT, EE, BB, TE, EB, TB (New=False)\n",
    "# for i in [1,2,3,4,5]: # excite EE, BB, EB\n",
    "#     cl_in[i][ell] = 1\n",
    "for i in [1,3]: # excite EE\n",
    "    cl_in[i][ell] = 1\n",
    "# for i in [2,5]: # excite BB\n",
    "#     cl_in[i][ell] = 1\n",
    "map_out = hp.synfast(cl_in, nside, new=False)\n",
    "print(map_out.shape)\n",
    "cl_out = hp.anafast(map_out)\n",
    "for ip, p in enumerate(['TT', 'EE', 'BB', 'TE', 'EB', 'TB']):\n",
    "    plt.title(p)\n",
    "    plt.plot(range(2, 2+len(cl_out[ip])), cl_out[ip])\n",
    "    plt.show()"
   ]
  },
  {
   "cell_type": "markdown",
   "id": "2b94e88a-b526-460f-bbdd-db318f175a37",
   "metadata": {},
   "source": [
    "### 1. Setup\n",
    "- Read mask.\n",
    "- Define bandpower bins\n",
    "- Initialize bandpower window function calculator"
   ]
  },
  {
   "cell_type": "code",
   "execution_count": null,
   "id": "55ad290c-b181-4643-919c-4893151ca65b",
   "metadata": {},
   "outputs": [],
   "source": [
    "# Read mask\n",
    "nside = 64\n",
    "#msk = hp.read_map(\"../SensitivityCheck/data/mask_apodized.fits\")\n",
    "msk = hp.read_map(\"/global/cscratch1/sd/kwolz/BBPower/examples/data/maps/mask_bin_apo10.0_nside64.fits\")\n",
    "# Generate NaMaster bins\n",
    "b = nmt.NmtBin(nside, nlb=10)\n",
    "# Bbl calculator\n",
    "# Dictionary defining method to generate delta sims (not many options yet!)\n",
    "dsim = {'stats': 'Gaussian'}\n",
    "# Dictionary defining method to filter (just masking for now)\n",
    "filt = {'mask': msk}\n",
    "bc = mst.DeltaBbl(nside, dsim, filt, b, pol=True)"
   ]
  },
  {
   "cell_type": "markdown",
   "id": "6fef5643-d126-4436-8917-35f28955cc82",
   "metadata": {},
   "source": [
    "### 2. Compute exact bandpowers\n",
    "Now let's use NaMaster to compute the exact bandpower windows, and plot them"
   ]
  },
  {
   "cell_type": "code",
   "execution_count": null,
   "id": "46f1765e-f605-4fb9-bc01-5475fabf7f34",
   "metadata": {},
   "outputs": [],
   "source": [
    "# TODO: spin-2 field\n",
    "f = nmt.NmtField(hp.ud_grade(msk, nside_out=nside), None, spin=2)\n",
    "w = nmt.NmtWorkspace()\n",
    "w.compute_coupling_matrix(f, f, b)\n",
    "mcm = w.get_coupling_matrix()\n",
    "\n",
    "bpw_true = np.array([b.bin_cell(m) for m in mcm.T]).T\n",
    "\n",
    "for bpw in bpw_true:\n",
    "    plt.plot(bpw)\n",
    "plt.xlim([0, 3*nside-1])\n",
    "plt.xlabel('$\\ell$', fontsize=15)\n",
    "plt.ylabel('$B_{b\\ell}$', fontsize=15);"
   ]
  },
  {
   "cell_type": "markdown",
   "id": "facd602e-d19a-49ce-9b85-641cfbc7134f",
   "metadata": {},
   "source": [
    "### 3. Compute bandpower windows through simulations"
   ]
  },
  {
   "cell_type": "code",
   "execution_count": null,
   "id": "13428083-4606-4770-90dd-e49752686aea",
   "metadata": {},
   "outputs": [],
   "source": [
    "# TODO: complete cells below (so far just copy & paste)\n",
    "bpw_num = bc.gen_Bbl_all()"
   ]
  },
  {
   "cell_type": "code",
   "execution_count": null,
   "id": "019c764e-3a87-4c80-a556-6246d6673457",
   "metadata": {},
   "outputs": [],
   "source": [
    "Now compute them using Gaussian sims"
   ]
  },
  {
   "cell_type": "code",
   "execution_count": null,
   "id": "c902483a-41d0-4147-99a5-4813e59dfdbf",
   "metadata": {},
   "outputs": [],
   "source": [
    "dsim = {'stats': 'Z2'}\n",
    "bc_z2 = mst.DeltaBbl(nside, dsim, filt, b)\n",
    "bpw_num_z2 = bc_z2.gen_Bbl_all()"
   ]
  },
  {
   "cell_type": "code",
   "execution_count": null,
   "id": "60854478-3099-47d7-aa44-81c950df57c3",
   "metadata": {},
   "outputs": [],
   "source": [
    "for bpw_t, bpw_n, bpw_z2 in zip(bpw_true, bpw_num, bpw_num_z2):\n",
    "    plt.plot(bc.get_ells(), bpw_n, 'r-')\n",
    "    plt.plot(bc.get_ells(), bpw_z2, 'y:')\n",
    "    plt.plot(bpw_t, 'k--')\n",
    "plt.plot([-1], [0], 'r-', label='Numerical $B_{b\\ell}$')\n",
    "plt.plot([-1], [0], 'y:', label='Numerical $B_{b\\ell}\\,\\,(Z_2)$')\n",
    "plt.plot([-1], [0], 'k--', label='True $B_{b\\ell}$')\n",
    "plt.xlim([0, 3*nside-1])\n",
    "plt.xlabel('$\\ell$', fontsize=15)\n",
    "plt.ylabel('$B_{b\\ell}$', fontsize=15)\n",
    "plt.legend(ncol=2, loc='upper center', fontsize=14, frameon=False);"
   ]
  }
 ],
 "metadata": {
  "kernelspec": {
   "display_name": "bbpower",
   "language": "python",
   "name": "bbpower"
  },
  "language_info": {
   "codemirror_mode": {
    "name": "ipython",
    "version": 3
   },
   "file_extension": ".py",
   "mimetype": "text/x-python",
   "name": "python",
   "nbconvert_exporter": "python",
   "pygments_lexer": "ipython3",
   "version": "3.6.13"
  }
 },
 "nbformat": 4,
 "nbformat_minor": 5
}
