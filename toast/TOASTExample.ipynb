{
 "cells": [
  {
   "cell_type": "markdown",
   "id": "87aff784-00ee-4c4f-9eb7-01142aa33fdb",
   "metadata": {},
   "source": [
    "# TOAST3 test script\n",
    "First try at producing an observed map with `TOAST3`.\n",
    "- The following scripts are mainly taken (and adapted) from https://github.com/simonsobs/pwg-scripts/tree/master/pwg-tds/sat-obs-matrix/2022-mode-loss-study. \n",
    "- The best script to study for SAT TOD sims & mapmaking is this one: https://github.com/simonsobs/sotodlib/tree/master/workflows.\n",
    "- `TOAST3` is quite different from `TOAST2`! You can find the source files here: https://github.com/hpc4cmb/toast/tree/toast3/src/toast"
   ]
  },
  {
   "cell_type": "markdown",
   "id": "4a86b53b-4935-4b8c-aae2-9c45c215728c",
   "metadata": {},
   "source": [
    "## Preparation\n"
   ]
  },
  {
   "cell_type": "markdown",
   "id": "cbe0fedb-a66c-45df-ae89-5edd72cb290f",
   "metadata": {},
   "source": [
    "#### Load sohpc stack\n",
    "````bash\n",
    "module add /global/common/software/sobs/$NERSC_HOST/default/modulefiles`\n",
    "module load sohpc\n",
    "````"
   ]
  },
  {
   "cell_type": "markdown",
   "id": "95e16f9c-4c02-480d-9bb9-b07cda9480fa",
   "metadata": {},
   "source": [
    "#### Install `TOAST3` and dependencies\n",
    "````bash\n",
    "cd; git clone https://github.com/simonsobs/sotodlib; cd sotodlib; pip install .\n",
    "git clone https://github.com/simonsobs/pwg-scripts`\n",
    "pip install -y pixell --user\n",
    "pip install -y so3g --user\n",
    "pip install -y toast==3.0.0a15 --user\n",
    "python -c 'import toast; print(toast.__file__)'\n",
    "````\n",
    "Copy the resulting toast3 directory (only the directory, not the file path)."
   ]
  },
  {
   "cell_type": "markdown",
   "id": "becb4f47-4d7a-4efa-bdbe-d8121dce435d",
   "metadata": {},
   "source": [
    "#### Add `bashrc` environment\n",
    "- Add the following snippet to your ~/.bashrc file:\n",
    "````bash\n",
    "load_toast() {\n",
    "    module use /global/common/software/sobs/$NERSC_HOST/default/modulefiles\n",
    "    module load sohpc\n",
    "    module load openmpi\n",
    "    dir=[toast3 directory]\n",
    "    export PATH=\"${dir}/bin:${PATH}\"\n",
    "    pysite=$(python3 --version 2>&1 | awk \"{print $2}\" | sed -e \"s#\\(.*\\)\\.\\(.*\\)\\..*#\\1.\\2#\")\n",
    "    export PYTHONPATH=\"${dir}/lib/python${pysite}/site-packages:${PYTHONPATH}\"\n",
    "}\n",
    "````\n",
    "- Save changes with `source ~/.bashrc`.\n",
    "- Now you can always load this envirmonment with `load_toast`."
   ]
  },
  {
   "cell_type": "markdown",
   "id": "a43db1cf-0c66-4f33-986e-6450d9e6e635",
   "metadata": {},
   "source": [
    "### Make virtual environment for jupyter kernel\n",
    "- Add a file named `kernel-helper.sh` to `~/.local/share/jupyter/kernels/toast3`:\n",
    "````bash\n",
    "#!/bin/bash\n",
    "module use /global/common/software/sobs/$NERSC_HOST/default/modulefiles\n",
    "module load sohpc\n",
    "module load openmpi\n",
    "dir=[toast3 directory]\n",
    "export PATH=\"${dir}/bin:${PATH}\"\n",
    "pysite=$(python3 --version 2>&1 | awk \"{print $2}\" | sed -e \"s#\\(.*\\)\\.\\(.*\\)\\..*#\\1.\\2#\")\n",
    "export PYTHONPATH=\"${dir}/lib/python${pysite}/site-packages:${PYTHONPATH}\"\n",
    "exec \"$@\"\n",
    "````\n",
    "- Then, `chmod +ux` it.\n",
    "- Add another file named `kernel.json` to the same directory:\n",
    "````json\n",
    "{\n",
    "    \"argv\": [\n",
    "        \"{resource_dir}/kernel-helper.sh\",\n",
    "        \"python\",\n",
    "        \"-m\",\n",
    "        \"ipykernel_launcher\",\n",
    "        \"-f\",\n",
    "        \"{connection_file}\"\n",
    "    ],\n",
    "    \"display_name\": \"TOAST3\",\n",
    "    \"language\": \"python\"\n",
    "}\n",
    "````\n",
    "- The kernel `TOAST3` will now be available as a jupyter kernel on NERSC.\n",
    "- Next, restart this notebook and load the `TOAST3` kernel."
   ]
  },
  {
   "cell_type": "code",
   "execution_count": 8,
   "id": "5a2c8c48-77cb-4504-b36c-19aa14e04a3c",
   "metadata": {},
   "outputs": [
    {
     "name": "stdout",
     "output_type": "stream",
     "text": [
      "This is your toast3 install path:\n",
      " /global/homes/k/kwolz/.local/cmbenv-20220322/lib/python3.9/site-packages/toast/scripts\n"
     ]
    }
   ],
   "source": [
    "import sys\n",
    "import toast\n",
    "import toast.scripts\n",
    "print('This is your toast3 install path:\\n', '/'.join(toast.scripts.__file__.split('/')[:-1]))"
   ]
  },
  {
   "cell_type": "markdown",
   "id": "26773e98-3642-4927-ae6d-b301dbb07ef5",
   "metadata": {},
   "source": [
    "### Making an observing schedule\n",
    "Replace the toast3 path in the next line with the previous line:"
   ]
  },
  {
   "cell_type": "code",
   "execution_count": 2,
   "id": "5730d232-cad2-4c2e-9b3a-70df35cde890",
   "metadata": {},
   "outputs": [
    {
     "name": "stdout",
     "output_type": "stream",
     "text": [
      "TOAST INFO: Adding patch \"south\"\n",
      "TOAST INFO: Rectangular format\n",
      "TOAST INFO: Adding patch \"DEC-050..-030_RA+000.000..+011.613\"\n",
      "TOAST INFO: Rectangular format\n",
      "TOAST INFO: Adding patch \"DEC-050..-030_RA+011.613..+023.226\"\n",
      "TOAST INFO: Rectangular format\n",
      "TOAST INFO: Adding patch \"DEC-050..-030_RA+023.226..+034.839\"\n",
      "TOAST INFO: Rectangular format\n",
      "TOAST INFO: Adding patch \"DEC-050..-030_RA+034.839..+046.452\"\n",
      "TOAST INFO: Rectangular format\n",
      "TOAST INFO: Adding patch \"DEC-050..-030_RA+046.452..+058.065\"\n",
      "TOAST INFO: Rectangular format\n",
      "TOAST INFO: Adding patch \"DEC-050..-030_RA+058.065..+069.677\"\n",
      "TOAST INFO: Rectangular format\n",
      "TOAST INFO: Adding patch \"DEC-050..-030_RA+069.677..+081.290\"\n",
      "TOAST INFO: Rectangular format\n",
      "TOAST INFO: Adding patch \"DEC-050..-030_RA+081.290..+092.903\"\n",
      "TOAST INFO: Rectangular format\n",
      "TOAST INFO: Adding patch \"DEC-050..-030_RA+301.935..+313.548\"\n",
      "TOAST INFO: Rectangular format\n",
      "TOAST INFO: Adding patch \"DEC-050..-030_RA+313.548..+325.161\"\n",
      "TOAST INFO: Rectangular format\n",
      "TOAST INFO: Adding patch \"DEC-050..-030_RA+325.161..+336.774\"\n",
      "TOAST INFO: Rectangular format\n",
      "TOAST INFO: Adding patch \"DEC-050..-030_RA+336.774..+348.387\"\n",
      "TOAST INFO: Rectangular format\n",
      "TOAST INFO: Adding patch \"DEC-050..-030_RA+348.387..+360.000\"\n",
      "TOAST INFO: Rectangular format\n",
      "TOAST INFO: Creating 'schedules'\n",
      "TOAST INFO: Global timer: toast_ground_schedule:  1.01 seconds (1 calls)\n"
     ]
    }
   ],
   "source": [
    "!$sys.executable /global/homes/k/kwolz/.local/cmbenv-20220322/lib/python3.9/site-packages/toast/scripts/toast_ground_schedule.py \\\n",
    "@schedule_sat.par \\\n",
    "@patches_sat.txt \\\n",
    "--elevations-deg 50,60 \\\n",
    "--elevation-change-limit-deg 1 --elevation-change-time 1800 \\\n",
    "--out schedules/schedule_sat.fixed_el.txt"
   ]
  },
  {
   "cell_type": "markdown",
   "id": "4f959953-d818-4c8c-a3c6-33c005b5b78f",
   "metadata": {},
   "source": [
    "### Writing the TOAST simulation & data reduction script"
   ]
  },
  {
   "cell_type": "code",
   "execution_count": 3,
   "id": "b90abbf9-dffe-4713-a641-769418d069e8",
   "metadata": {},
   "outputs": [
    {
     "name": "stdout",
     "output_type": "stream",
     "text": [
      "Overwriting run.sh\n"
     ]
    }
   ],
   "source": [
    "%%writefile run.sh\n",
    "#!/bin/bash\n",
    "\n",
    "export OMP_NUM_THREADS=1\n",
    "sotodlibdir=~/sotodlib/workflows\n",
    "\n",
    "logfile=toast.log\n",
    "\n",
    "if [[ -e $logfile ]]; then\n",
    "    echo \"$logfile exists\"\n",
    "fi\n",
    "\n",
    "outdir=toast_output\n",
    "mkdir -p $outdir\n",
    "\n",
    "echo \"Writing $logfile\"\n",
    "\n",
    "TOAST_LOGLEVEL=debug mpirun -np 4 python \\\n",
    "$sotodlibdir/toast_so_sim.py \\\n",
    " --config 2022.toml \\\n",
    " --schedule schedules/schedule_sat.fixed_el.txt \\\n",
    " --bands SAT_f150 \\\n",
    " --telescope SAT1 \\\n",
    " --thinfp 64 \\\n",
    " --sample_rate 40 \\\n",
    " --sim_noise.enable \\\n",
    " --sim_atmosphere_coarse.disable \\\n",
    " --sim_atmosphere.disable \\\n",
    " --out $outdir \\\n",
    " --job_group_size 1 \\\n",
    " >& $logfile\n",
    "exit"
   ]
  },
  {
   "cell_type": "markdown",
   "id": "a15d7ad2-d90e-45cb-89ec-375b74e126fd",
   "metadata": {},
   "source": [
    "### Running the TOAST simulation & data reduction script\n",
    "The following run contains some bugs, but it is (I think) a good starting point for integrating filtering in our MASTER pipeline."
   ]
  },
  {
   "cell_type": "code",
   "execution_count": 4,
   "id": "1098a64b-cc5e-400d-a518-2efc6b56ba7d",
   "metadata": {},
   "outputs": [
    {
     "name": "stdout",
     "output_type": "stream",
     "text": [
      "bash run.sh\n",
      "toast.log exists\n",
      "Writing toast.log\n"
     ]
    },
    {
     "ename": "CalledProcessError",
     "evalue": "Command 'bash run.sh' returned non-zero exit status 1.",
     "output_type": "error",
     "traceback": [
      "\u001b[0;31m---------------------------------------------------------------------------\u001b[0m",
      "\u001b[0;31mCalledProcessError\u001b[0m                        Traceback (most recent call last)",
      "Input \u001b[0;32mIn [4]\u001b[0m, in \u001b[0;36m<cell line: 11>\u001b[0;34m()\u001b[0m\n\u001b[1;32m      4\u001b[0m \u001b[38;5;66;03m# if nersc_host is not None:\u001b[39;00m\n\u001b[1;32m      5\u001b[0m \u001b[38;5;66;03m#     command = \"sbatch toast_satellite_sim.slurm\"\u001b[39;00m\n\u001b[1;32m      6\u001b[0m \u001b[38;5;66;03m# else:\u001b[39;00m\n\u001b[1;32m      7\u001b[0m \u001b[38;5;66;03m#     # Just use mpirun\u001b[39;00m\n\u001b[1;32m      8\u001b[0m \u001b[38;5;66;03m#     command = \"mpirun -np 4 toast_satellite_sim.py @toast_satellite_sim.par\"\u001b[39;00m\n\u001b[1;32m     10\u001b[0m \u001b[38;5;28mprint\u001b[39m(command, flush\u001b[38;5;241m=\u001b[39m\u001b[38;5;28;01mTrue\u001b[39;00m)\n\u001b[0;32m---> 11\u001b[0m \u001b[43msp\u001b[49m\u001b[38;5;241;43m.\u001b[39;49m\u001b[43mcheck_call\u001b[49m\u001b[43m(\u001b[49m\u001b[43mcommand\u001b[49m\u001b[43m,\u001b[49m\u001b[43m \u001b[49m\u001b[43mstderr\u001b[49m\u001b[38;5;241;43m=\u001b[39;49m\u001b[43msp\u001b[49m\u001b[38;5;241;43m.\u001b[39;49m\u001b[43mSTDOUT\u001b[49m\u001b[43m,\u001b[49m\u001b[43m \u001b[49m\u001b[43mshell\u001b[49m\u001b[38;5;241;43m=\u001b[39;49m\u001b[38;5;28;43;01mTrue\u001b[39;49;00m\u001b[43m)\u001b[49m\n",
      "File \u001b[0;32m/global/common/software/cmb/cori/cmbenv-gcc_20220322/cmbenv_python/lib/python3.9/subprocess.py:373\u001b[0m, in \u001b[0;36mcheck_call\u001b[0;34m(*popenargs, **kwargs)\u001b[0m\n\u001b[1;32m    371\u001b[0m     \u001b[38;5;28;01mif\u001b[39;00m cmd \u001b[38;5;129;01mis\u001b[39;00m \u001b[38;5;28;01mNone\u001b[39;00m:\n\u001b[1;32m    372\u001b[0m         cmd \u001b[38;5;241m=\u001b[39m popenargs[\u001b[38;5;241m0\u001b[39m]\n\u001b[0;32m--> 373\u001b[0m     \u001b[38;5;28;01mraise\u001b[39;00m CalledProcessError(retcode, cmd)\n\u001b[1;32m    374\u001b[0m \u001b[38;5;28;01mreturn\u001b[39;00m \u001b[38;5;241m0\u001b[39m\n",
      "\u001b[0;31mCalledProcessError\u001b[0m: Command 'bash run.sh' returned non-zero exit status 1."
     ]
    }
   ],
   "source": [
    "import subprocess as sp\n",
    "command = f\"bash run.sh\"\n",
    "\n",
    "# if nersc_host is not None:\n",
    "#     command = \"sbatch toast_satellite_sim.slurm\"\n",
    "# else:\n",
    "#     # Just use mpirun\n",
    "#     command = \"mpirun -np 4 toast_satellite_sim.py @toast_satellite_sim.par\"\n",
    "\n",
    "print(command, flush=True)\n",
    "sp.check_call(command, stderr=sp.STDOUT, shell=True)"
   ]
  }
 ],
 "metadata": {
  "kernelspec": {
   "display_name": "TOAST3",
   "language": "python",
   "name": "toast3"
  },
  "language_info": {
   "codemirror_mode": {
    "name": "ipython",
    "version": 3
   },
   "file_extension": ".py",
   "mimetype": "text/x-python",
   "name": "python",
   "nbconvert_exporter": "python",
   "pygments_lexer": "ipython3",
   "version": "3.9.7"
  }
 },
 "nbformat": 4,
 "nbformat_minor": 5
}
